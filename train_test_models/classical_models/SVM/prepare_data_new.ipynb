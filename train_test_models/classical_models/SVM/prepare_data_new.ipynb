{
 "cells": [
  {
   "cell_type": "code",
   "execution_count": 1,
   "id": "7973b0ad",
   "metadata": {},
   "outputs": [],
   "source": [
    "import pandas as pd\n",
    "import csv"
   ]
  },
  {
   "cell_type": "code",
   "execution_count": 2,
   "id": "cbea4eea",
   "metadata": {},
   "outputs": [],
   "source": [
    "data_train = pd.read_csv(\"train.csv\",header=None)\n",
    "data_test = pd.read_csv(\"test.csv\",header=None)"
   ]
  },
  {
   "cell_type": "code",
   "execution_count": 10,
   "id": "adec46ed",
   "metadata": {},
   "outputs": [
    {
     "data": {
      "text/html": [
       "<div>\n",
       "<style scoped>\n",
       "    .dataframe tbody tr th:only-of-type {\n",
       "        vertical-align: middle;\n",
       "    }\n",
       "\n",
       "    .dataframe tbody tr th {\n",
       "        vertical-align: top;\n",
       "    }\n",
       "\n",
       "    .dataframe thead th {\n",
       "        text-align: right;\n",
       "    }\n",
       "</style>\n",
       "<table border=\"1\" class=\"dataframe\">\n",
       "  <thead>\n",
       "    <tr style=\"text-align: right;\">\n",
       "      <th></th>\n",
       "      <th>0</th>\n",
       "      <th>1</th>\n",
       "      <th>2</th>\n",
       "    </tr>\n",
       "  </thead>\n",
       "  <tbody>\n",
       "    <tr>\n",
       "      <th>0</th>\n",
       "      <td>3</td>\n",
       "      <td>Fears for T N pension after talks</td>\n",
       "      <td>Unions representing workers at Turner   Newall...</td>\n",
       "    </tr>\n",
       "    <tr>\n",
       "      <th>1</th>\n",
       "      <td>4</td>\n",
       "      <td>The Race is On: Second Private Team Sets Launc...</td>\n",
       "      <td>SPACE.com - TORONTO, Canada -- A second\\team o...</td>\n",
       "    </tr>\n",
       "    <tr>\n",
       "      <th>2</th>\n",
       "      <td>4</td>\n",
       "      <td>Ky. Company Wins Grant to Study Peptides (AP)</td>\n",
       "      <td>AP - A company founded by a chemistry research...</td>\n",
       "    </tr>\n",
       "    <tr>\n",
       "      <th>3</th>\n",
       "      <td>4</td>\n",
       "      <td>Prediction Unit Helps Forecast Wildfires (AP)</td>\n",
       "      <td>AP - It's barely dawn when Mike Fitzpatrick st...</td>\n",
       "    </tr>\n",
       "    <tr>\n",
       "      <th>4</th>\n",
       "      <td>4</td>\n",
       "      <td>Calif. Aims to Limit Farm-Related Smog (AP)</td>\n",
       "      <td>AP - Southern California's smog-fighting agenc...</td>\n",
       "    </tr>\n",
       "    <tr>\n",
       "      <th>...</th>\n",
       "      <td>...</td>\n",
       "      <td>...</td>\n",
       "      <td>...</td>\n",
       "    </tr>\n",
       "    <tr>\n",
       "      <th>7595</th>\n",
       "      <td>1</td>\n",
       "      <td>Around the world</td>\n",
       "      <td>Ukrainian presidential candidate Viktor Yushch...</td>\n",
       "    </tr>\n",
       "    <tr>\n",
       "      <th>7596</th>\n",
       "      <td>2</td>\n",
       "      <td>Void is filled with Clement</td>\n",
       "      <td>With the supply of attractive pitching options...</td>\n",
       "    </tr>\n",
       "    <tr>\n",
       "      <th>7597</th>\n",
       "      <td>2</td>\n",
       "      <td>Martinez leaves bitter</td>\n",
       "      <td>Like Roger Clemens did almost exactly eight ye...</td>\n",
       "    </tr>\n",
       "    <tr>\n",
       "      <th>7598</th>\n",
       "      <td>3</td>\n",
       "      <td>5 of arthritis patients in Singapore take Bext...</td>\n",
       "      <td>SINGAPORE : Doctors in the United States have ...</td>\n",
       "    </tr>\n",
       "    <tr>\n",
       "      <th>7599</th>\n",
       "      <td>3</td>\n",
       "      <td>EBay gets into rentals</td>\n",
       "      <td>EBay plans to buy the apartment and home renta...</td>\n",
       "    </tr>\n",
       "  </tbody>\n",
       "</table>\n",
       "<p>7600 rows × 3 columns</p>\n",
       "</div>"
      ],
      "text/plain": [
       "      0                                                  1  \\\n",
       "0     3                  Fears for T N pension after talks   \n",
       "1     4  The Race is On: Second Private Team Sets Launc...   \n",
       "2     4      Ky. Company Wins Grant to Study Peptides (AP)   \n",
       "3     4      Prediction Unit Helps Forecast Wildfires (AP)   \n",
       "4     4        Calif. Aims to Limit Farm-Related Smog (AP)   \n",
       "...  ..                                                ...   \n",
       "7595  1                                   Around the world   \n",
       "7596  2                        Void is filled with Clement   \n",
       "7597  2                             Martinez leaves bitter   \n",
       "7598  3  5 of arthritis patients in Singapore take Bext...   \n",
       "7599  3                             EBay gets into rentals   \n",
       "\n",
       "                                                      2  \n",
       "0     Unions representing workers at Turner   Newall...  \n",
       "1     SPACE.com - TORONTO, Canada -- A second\\team o...  \n",
       "2     AP - A company founded by a chemistry research...  \n",
       "3     AP - It's barely dawn when Mike Fitzpatrick st...  \n",
       "4     AP - Southern California's smog-fighting agenc...  \n",
       "...                                                 ...  \n",
       "7595  Ukrainian presidential candidate Viktor Yushch...  \n",
       "7596  With the supply of attractive pitching options...  \n",
       "7597  Like Roger Clemens did almost exactly eight ye...  \n",
       "7598  SINGAPORE : Doctors in the United States have ...  \n",
       "7599  EBay plans to buy the apartment and home renta...  \n",
       "\n",
       "[7600 rows x 3 columns]"
      ]
     },
     "execution_count": 10,
     "metadata": {},
     "output_type": "execute_result"
    }
   ],
   "source": [
    "data_test"
   ]
  },
  {
   "cell_type": "code",
   "execution_count": 11,
   "id": "bc94c722",
   "metadata": {},
   "outputs": [],
   "source": [
    "data_full = data_train.append(data_test)"
   ]
  },
  {
   "cell_type": "code",
   "execution_count": 12,
   "id": "35c92f50",
   "metadata": {},
   "outputs": [],
   "source": [
    "data_full = data_full.reset_index().drop('index', axis=1)"
   ]
  },
  {
   "cell_type": "code",
   "execution_count": 13,
   "id": "5c71e202",
   "metadata": {},
   "outputs": [],
   "source": [
    "X = data_full[2]\n",
    "y = data_full[0]\n",
    "z = data_full[1]"
   ]
  },
  {
   "cell_type": "code",
   "execution_count": 14,
   "id": "0ac68989",
   "metadata": {},
   "outputs": [],
   "source": [
    "import numpy as np\n",
    "from sklearn.model_selection import RepeatedKFold"
   ]
  },
  {
   "cell_type": "code",
   "execution_count": 15,
   "id": "877f3924",
   "metadata": {},
   "outputs": [],
   "source": [
    "#n_splits=5 results in a 80-20-train-test-splitting\n",
    "rkf = RepeatedKFold(n_splits=5, n_repeats=2, random_state=265224)"
   ]
  },
  {
   "cell_type": "code",
   "execution_count": 16,
   "id": "2ce4fcca",
   "metadata": {},
   "outputs": [
    {
     "name": "stdout",
     "output_type": "stream",
     "text": [
      "TRAIN: [     0      1      3 ... 127596 127597 127598] TEST: [     2      9     21 ... 127591 127594 127599]\n",
      "TRAIN: [     0      1      2 ... 127597 127598 127599] TEST: [     4      5      6 ... 127580 127589 127596]\n",
      "TRAIN: [     1      2      3 ... 127597 127598 127599] TEST: [     0     10     18 ... 127586 127590 127592]\n",
      "TRAIN: [     0      1      2 ... 127596 127597 127599] TEST: [     3     13     16 ... 127588 127593 127598]\n",
      "TRAIN: [     0      2      3 ... 127596 127598 127599] TEST: [     1     12     15 ... 127585 127595 127597]\n",
      "TRAIN: [     0      1      3 ... 127597 127598 127599] TEST: [     2      9     18 ... 127584 127586 127595]\n",
      "TRAIN: [     1      2      4 ... 127596 127597 127599] TEST: [     0      3      5 ... 127583 127592 127598]\n",
      "TRAIN: [     0      2      3 ... 127597 127598 127599] TEST: [     1     11     14 ... 127567 127591 127596]\n",
      "TRAIN: [     0      1      2 ... 127595 127596 127598] TEST: [     4      8     13 ... 127594 127597 127599]\n",
      "TRAIN: [     0      1      2 ... 127597 127598 127599] TEST: [     6     16     19 ... 127578 127579 127587]\n"
     ]
    }
   ],
   "source": [
    "train_index_vec = []\n",
    "test_index_vec = []\n",
    "for train_index, test_index in rkf.split(X, y):\n",
    "    print(\"TRAIN:\", train_index, \"TEST:\", test_index)\n",
    "    train_index_vec.append(train_index)\n",
    "    test_index_vec.append(test_index)"
   ]
  },
  {
   "cell_type": "code",
   "execution_count": 17,
   "id": "fe88576b",
   "metadata": {},
   "outputs": [
    {
     "data": {
      "text/plain": [
       "0.8"
      ]
     },
     "execution_count": 17,
     "metadata": {},
     "output_type": "execute_result"
    }
   ],
   "source": [
    "len(train_index)/(len(train_index)+len(test_index))"
   ]
  },
  {
   "cell_type": "code",
   "execution_count": 18,
   "id": "9f2b416d",
   "metadata": {},
   "outputs": [
    {
     "data": {
      "text/plain": [
       "0.2"
      ]
     },
     "execution_count": 18,
     "metadata": {},
     "output_type": "execute_result"
    }
   ],
   "source": [
    "len(test_index)/(len(train_index)+len(test_index))"
   ]
  },
  {
   "cell_type": "code",
   "execution_count": 19,
   "id": "2c2fe437",
   "metadata": {},
   "outputs": [],
   "source": [
    "#X = X.astype('string')\n",
    "#z = z.astype('string')\n",
    "\n",
    "#############################################################\n",
    "for pos in range(len(train_index_vec)):\n",
    "    df_train = pd.DataFrame()\n",
    "    df_train[0] = y[train_index_vec[pos]]\n",
    "    df_train[1] = z[train_index_vec[pos]].astype('string')\n",
    "    df_train[2] = X[train_index_vec[pos]].astype('string')\n",
    "    \n",
    "    df_test = pd.DataFrame()\n",
    "    df_test[0] = y[test_index_vec[pos]]\n",
    "    df_test[1] = z[test_index_vec[pos]].astype('string')\n",
    "    df_test[2] = X[test_index_vec[pos]].astype('string')\n",
    "    \n",
    "    \n",
    "    filename = \"train_\"+str(pos)+'.csv'\n",
    "    df_train.to_csv(filename, sep=',', header=False, index=False)\n",
    "    filename = \"test_\"+str(pos)+'.csv'\n",
    "    df_test.to_csv(filename, sep=',', header=False, index=False)"
   ]
  },
  {
   "cell_type": "code",
   "execution_count": 20,
   "id": "b8ef49ba",
   "metadata": {},
   "outputs": [
    {
     "data": {
      "image/png": "[encoded data removed]",
      "text/plain": [
       "<Figure size 432x288 with 1 Axes>"
      ]
     },
     "metadata": {
      "needs_background": "light"
     },
     "output_type": "display_data"
    }
   ],
   "source": [
    "import matplotlib.pyplot as plt\n",
    "plt.hist(np.array(df_test[0]),len(np.unique(np.array(df_train[0]))));"
   ]
  },
  {
   "cell_type": "code",
   "execution_count": 21,
   "id": "b647793a",
   "metadata": {},
   "outputs": [
    {
     "data": {
      "image/png": "[encoded data removed]",
      "text/plain": [
       "<Figure size 432x288 with 1 Axes>"
      ]
     },
     "metadata": {
      "needs_background": "light"
     },
     "output_type": "display_data"
    }
   ],
   "source": [
    "plt.hist(np.array(df_train[0]),len(np.unique(np.array(df_train[0]))));"
   ]
  },
  {
   "cell_type": "code",
   "execution_count": 22,
   "id": "fe519c7a",
   "metadata": {},
   "outputs": [
    {
     "data": {
      "text/plain": [
       "4"
      ]
     },
     "execution_count": 22,
     "metadata": {},
     "output_type": "execute_result"
    }
   ],
   "source": [
    "len(np.unique(np.array(df_train[0])))"
   ]
  },
  {
   "cell_type": "code",
   "execution_count": 23,
   "id": "0fc45f3d",
   "metadata": {},
   "outputs": [],
   "source": [
    "data_test2 = pd.read_csv(\"test_1.csv\",header=None)"
   ]
  },
  {
   "cell_type": "code",
   "execution_count": 24,
   "id": "4862262d",
   "metadata": {},
   "outputs": [
    {
     "data": {
      "text/html": [
       "<div>\n",
       "<style scoped>\n",
       "    .dataframe tbody tr th:only-of-type {\n",
       "        vertical-align: middle;\n",
       "    }\n",
       "\n",
       "    .dataframe tbody tr th {\n",
       "        vertical-align: top;\n",
       "    }\n",
       "\n",
       "    .dataframe thead th {\n",
       "        text-align: right;\n",
       "    }\n",
       "</style>\n",
       "<table border=\"1\" class=\"dataframe\">\n",
       "  <thead>\n",
       "    <tr style=\"text-align: right;\">\n",
       "      <th></th>\n",
       "      <th>0</th>\n",
       "      <th>1</th>\n",
       "      <th>2</th>\n",
       "    </tr>\n",
       "  </thead>\n",
       "  <tbody>\n",
       "    <tr>\n",
       "      <th>0</th>\n",
       "      <td>3</td>\n",
       "      <td>Oil prices soar to all-time record, posing new...</td>\n",
       "      <td>AFP - Tearaway world oil prices, toppling reco...</td>\n",
       "    </tr>\n",
       "    <tr>\n",
       "      <th>1</th>\n",
       "      <td>3</td>\n",
       "      <td>Stocks End Up, But Near Year Lows (Reuters)</td>\n",
       "      <td>Reuters - Stocks ended slightly higher on Frid...</td>\n",
       "    </tr>\n",
       "    <tr>\n",
       "      <th>2</th>\n",
       "      <td>3</td>\n",
       "      <td>Money Funds Fell in Latest Week (AP)</td>\n",
       "      <td>AP - Assets of the nation's retail money marke...</td>\n",
       "    </tr>\n",
       "    <tr>\n",
       "      <th>3</th>\n",
       "      <td>3</td>\n",
       "      <td>Fed minutes show dissent over inflation (USATO...</td>\n",
       "      <td>USATODAY.com - Retail sales bounced back a bit...</td>\n",
       "    </tr>\n",
       "    <tr>\n",
       "      <th>4</th>\n",
       "      <td>3</td>\n",
       "      <td>Safety Net (Forbes.com)</td>\n",
       "      <td>Forbes.com - After earning a PH.D. in Sociolog...</td>\n",
       "    </tr>\n",
       "    <tr>\n",
       "      <th>...</th>\n",
       "      <td>...</td>\n",
       "      <td>...</td>\n",
       "      <td>...</td>\n",
       "    </tr>\n",
       "    <tr>\n",
       "      <th>25515</th>\n",
       "      <td>1</td>\n",
       "      <td>AU Issues Deadline to Khartoum and Darfur Rebels</td>\n",
       "      <td>ABUJA (Reuters) - The African Union issued a ...</td>\n",
       "    </tr>\n",
       "    <tr>\n",
       "      <th>25516</th>\n",
       "      <td>3</td>\n",
       "      <td>Airbus chief wins fight to take controls at Eads</td>\n",
       "      <td>The head of plane maker Airbus yesterday won a...</td>\n",
       "    </tr>\n",
       "    <tr>\n",
       "      <th>25517</th>\n",
       "      <td>2</td>\n",
       "      <td>England labour but find their second wind</td>\n",
       "      <td>This was not an easy day on which to play cric...</td>\n",
       "    </tr>\n",
       "    <tr>\n",
       "      <th>25518</th>\n",
       "      <td>2</td>\n",
       "      <td>The Newest Hope ; Marriage of Necessity Just M...</td>\n",
       "      <td>NEW YORK - The TV lights were on, the cameras ...</td>\n",
       "    </tr>\n",
       "    <tr>\n",
       "      <th>25519</th>\n",
       "      <td>2</td>\n",
       "      <td>Void is filled with Clement</td>\n",
       "      <td>With the supply of attractive pitching options...</td>\n",
       "    </tr>\n",
       "  </tbody>\n",
       "</table>\n",
       "<p>25520 rows × 3 columns</p>\n",
       "</div>"
      ],
      "text/plain": [
       "       0                                                  1  \\\n",
       "0      3  Oil prices soar to all-time record, posing new...   \n",
       "1      3        Stocks End Up, But Near Year Lows (Reuters)   \n",
       "2      3               Money Funds Fell in Latest Week (AP)   \n",
       "3      3  Fed minutes show dissent over inflation (USATO...   \n",
       "4      3                            Safety Net (Forbes.com)   \n",
       "...   ..                                                ...   \n",
       "25515  1   AU Issues Deadline to Khartoum and Darfur Rebels   \n",
       "25516  3   Airbus chief wins fight to take controls at Eads   \n",
       "25517  2          England labour but find their second wind   \n",
       "25518  2  The Newest Hope ; Marriage of Necessity Just M...   \n",
       "25519  2                        Void is filled with Clement   \n",
       "\n",
       "                                                       2  \n",
       "0      AFP - Tearaway world oil prices, toppling reco...  \n",
       "1      Reuters - Stocks ended slightly higher on Frid...  \n",
       "2      AP - Assets of the nation's retail money marke...  \n",
       "3      USATODAY.com - Retail sales bounced back a bit...  \n",
       "4      Forbes.com - After earning a PH.D. in Sociolog...  \n",
       "...                                                  ...  \n",
       "25515   ABUJA (Reuters) - The African Union issued a ...  \n",
       "25516  The head of plane maker Airbus yesterday won a...  \n",
       "25517  This was not an easy day on which to play cric...  \n",
       "25518  NEW YORK - The TV lights were on, the cameras ...  \n",
       "25519  With the supply of attractive pitching options...  \n",
       "\n",
       "[25520 rows x 3 columns]"
      ]
     },
     "execution_count": 24,
     "metadata": {},
     "output_type": "execute_result"
    }
   ],
   "source": [
    "data_test2"
   ]
  },
  {
   "cell_type": "code",
   "execution_count": 25,
   "id": "eaa25366",
   "metadata": {},
   "outputs": [
    {
     "data": {
      "text/html": [
       "<div>\n",
       "<style scoped>\n",
       "    .dataframe tbody tr th:only-of-type {\n",
       "        vertical-align: middle;\n",
       "    }\n",
       "\n",
       "    .dataframe tbody tr th {\n",
       "        vertical-align: top;\n",
       "    }\n",
       "\n",
       "    .dataframe thead th {\n",
       "        text-align: right;\n",
       "    }\n",
       "</style>\n",
       "<table border=\"1\" class=\"dataframe\">\n",
       "  <thead>\n",
       "    <tr style=\"text-align: right;\">\n",
       "      <th></th>\n",
       "      <th>0</th>\n",
       "      <th>1</th>\n",
       "      <th>2</th>\n",
       "    </tr>\n",
       "  </thead>\n",
       "  <tbody>\n",
       "    <tr>\n",
       "      <th>0</th>\n",
       "      <td>3</td>\n",
       "      <td>Fears for T N pension after talks</td>\n",
       "      <td>Unions representing workers at Turner   Newall...</td>\n",
       "    </tr>\n",
       "    <tr>\n",
       "      <th>1</th>\n",
       "      <td>4</td>\n",
       "      <td>The Race is On: Second Private Team Sets Launc...</td>\n",
       "      <td>SPACE.com - TORONTO, Canada -- A second\\team o...</td>\n",
       "    </tr>\n",
       "    <tr>\n",
       "      <th>2</th>\n",
       "      <td>4</td>\n",
       "      <td>Ky. Company Wins Grant to Study Peptides (AP)</td>\n",
       "      <td>AP - A company founded by a chemistry research...</td>\n",
       "    </tr>\n",
       "    <tr>\n",
       "      <th>3</th>\n",
       "      <td>4</td>\n",
       "      <td>Prediction Unit Helps Forecast Wildfires (AP)</td>\n",
       "      <td>AP - It's barely dawn when Mike Fitzpatrick st...</td>\n",
       "    </tr>\n",
       "    <tr>\n",
       "      <th>4</th>\n",
       "      <td>4</td>\n",
       "      <td>Calif. Aims to Limit Farm-Related Smog (AP)</td>\n",
       "      <td>AP - Southern California's smog-fighting agenc...</td>\n",
       "    </tr>\n",
       "    <tr>\n",
       "      <th>...</th>\n",
       "      <td>...</td>\n",
       "      <td>...</td>\n",
       "      <td>...</td>\n",
       "    </tr>\n",
       "    <tr>\n",
       "      <th>7595</th>\n",
       "      <td>1</td>\n",
       "      <td>Around the world</td>\n",
       "      <td>Ukrainian presidential candidate Viktor Yushch...</td>\n",
       "    </tr>\n",
       "    <tr>\n",
       "      <th>7596</th>\n",
       "      <td>2</td>\n",
       "      <td>Void is filled with Clement</td>\n",
       "      <td>With the supply of attractive pitching options...</td>\n",
       "    </tr>\n",
       "    <tr>\n",
       "      <th>7597</th>\n",
       "      <td>2</td>\n",
       "      <td>Martinez leaves bitter</td>\n",
       "      <td>Like Roger Clemens did almost exactly eight ye...</td>\n",
       "    </tr>\n",
       "    <tr>\n",
       "      <th>7598</th>\n",
       "      <td>3</td>\n",
       "      <td>5 of arthritis patients in Singapore take Bext...</td>\n",
       "      <td>SINGAPORE : Doctors in the United States have ...</td>\n",
       "    </tr>\n",
       "    <tr>\n",
       "      <th>7599</th>\n",
       "      <td>3</td>\n",
       "      <td>EBay gets into rentals</td>\n",
       "      <td>EBay plans to buy the apartment and home renta...</td>\n",
       "    </tr>\n",
       "  </tbody>\n",
       "</table>\n",
       "<p>7600 rows × 3 columns</p>\n",
       "</div>"
      ],
      "text/plain": [
       "      0                                                  1  \\\n",
       "0     3                  Fears for T N pension after talks   \n",
       "1     4  The Race is On: Second Private Team Sets Launc...   \n",
       "2     4      Ky. Company Wins Grant to Study Peptides (AP)   \n",
       "3     4      Prediction Unit Helps Forecast Wildfires (AP)   \n",
       "4     4        Calif. Aims to Limit Farm-Related Smog (AP)   \n",
       "...  ..                                                ...   \n",
       "7595  1                                   Around the world   \n",
       "7596  2                        Void is filled with Clement   \n",
       "7597  2                             Martinez leaves bitter   \n",
       "7598  3  5 of arthritis patients in Singapore take Bext...   \n",
       "7599  3                             EBay gets into rentals   \n",
       "\n",
       "                                                      2  \n",
       "0     Unions representing workers at Turner   Newall...  \n",
       "1     SPACE.com - TORONTO, Canada -- A second\\team o...  \n",
       "2     AP - A company founded by a chemistry research...  \n",
       "3     AP - It's barely dawn when Mike Fitzpatrick st...  \n",
       "4     AP - Southern California's smog-fighting agenc...  \n",
       "...                                                 ...  \n",
       "7595  Ukrainian presidential candidate Viktor Yushch...  \n",
       "7596  With the supply of attractive pitching options...  \n",
       "7597  Like Roger Clemens did almost exactly eight ye...  \n",
       "7598  SINGAPORE : Doctors in the United States have ...  \n",
       "7599  EBay plans to buy the apartment and home renta...  \n",
       "\n",
       "[7600 rows x 3 columns]"
      ]
     },
     "execution_count": 25,
     "metadata": {},
     "output_type": "execute_result"
    }
   ],
   "source": [
    "data_test"
   ]
  },
  {
   "cell_type": "code",
   "execution_count": null,
   "id": "db4ff0d4",
   "metadata": {},
   "outputs": [],
   "source": []
  }
 ],
 "metadata": {
  "kernelspec": {
   "display_name": "Python 3",
   "language": "python",
   "name": "python3"
  },
  "language_info": {
   "codemirror_mode": {
    "name": "ipython",
    "version": 3
   },
   "file_extension": ".py",
   "mimetype": "text/x-python",
   "name": "python",
   "nbconvert_exporter": "python",
   "pygments_lexer": "ipython3",
   "version": "3.7.6"
  }
 },
 "nbformat": 4,
 "nbformat_minor": 5
}
